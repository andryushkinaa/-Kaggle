{
 "cells": [
  {
   "cell_type": "code",
   "execution_count": 1,
   "id": "859228b4",
   "metadata": {
    "_cell_guid": "b1076dfc-b9ad-4769-8c92-a6c4dae69d19",
    "_uuid": "8f2839f25d086af736a60e9eeb907d3b93b6e0e5",
    "execution": {
     "iopub.execute_input": "2025-05-14T14:57:38.513286Z",
     "iopub.status.busy": "2025-05-14T14:57:38.512973Z",
     "iopub.status.idle": "2025-05-14T14:57:44.426260Z",
     "shell.execute_reply": "2025-05-14T14:57:44.425037Z"
    },
    "papermill": {
     "duration": 5.921115,
     "end_time": "2025-05-14T14:57:44.427894",
     "exception": false,
     "start_time": "2025-05-14T14:57:38.506779",
     "status": "completed"
    },
    "tags": []
   },
   "outputs": [
    {
     "name": "stdout",
     "output_type": "stream",
     "text": [
      "/kaggle/input/titanic/train.csv\n",
      "/kaggle/input/titanic/test.csv\n",
      "/kaggle/input/titanic/gender_submission.csv\n"
     ]
    }
   ],
   "source": [
    "import numpy as np \n",
    "import pandas as pd\n",
    "import matplotlib.pyplot as plt\n",
    "import seaborn as sns\n",
    "from sklearn.linear_model import LogisticRegression\n",
    "from sklearn.ensemble import RandomForestClassifier\n",
    "from sklearn.model_selection import train_test_split\n",
    "from sklearn.metrics import accuracy_score, precision_score, recall_score, f1_score, roc_auc_score, confusion_matrix\n",
    "\n",
    "import os\n",
    "for dirname, _, filenames in os.walk('/kaggle/input'):\n",
    "    for filename in filenames:\n",
    "        print(os.path.join(dirname, filename))"
   ]
  },
  {
   "cell_type": "code",
   "execution_count": 2,
   "id": "eadc7227",
   "metadata": {
    "execution": {
     "iopub.execute_input": "2025-05-14T14:57:44.439044Z",
     "iopub.status.busy": "2025-05-14T14:57:44.438065Z",
     "iopub.status.idle": "2025-05-14T14:57:44.486245Z",
     "shell.execute_reply": "2025-05-14T14:57:44.485180Z"
    },
    "papermill": {
     "duration": 0.055306,
     "end_time": "2025-05-14T14:57:44.487960",
     "exception": false,
     "start_time": "2025-05-14T14:57:44.432654",
     "status": "completed"
    },
    "tags": []
   },
   "outputs": [
    {
     "data": {
      "text/html": [
       "<div>\n",
       "<style scoped>\n",
       "    .dataframe tbody tr th:only-of-type {\n",
       "        vertical-align: middle;\n",
       "    }\n",
       "\n",
       "    .dataframe tbody tr th {\n",
       "        vertical-align: top;\n",
       "    }\n",
       "\n",
       "    .dataframe thead th {\n",
       "        text-align: right;\n",
       "    }\n",
       "</style>\n",
       "<table border=\"1\" class=\"dataframe\">\n",
       "  <thead>\n",
       "    <tr style=\"text-align: right;\">\n",
       "      <th></th>\n",
       "      <th>PassengerId</th>\n",
       "      <th>Survived</th>\n",
       "      <th>Pclass</th>\n",
       "      <th>Name</th>\n",
       "      <th>Sex</th>\n",
       "      <th>Age</th>\n",
       "      <th>SibSp</th>\n",
       "      <th>Parch</th>\n",
       "      <th>Ticket</th>\n",
       "      <th>Fare</th>\n",
       "      <th>Cabin</th>\n",
       "      <th>Embarked</th>\n",
       "    </tr>\n",
       "  </thead>\n",
       "  <tbody>\n",
       "    <tr>\n",
       "      <th>0</th>\n",
       "      <td>1</td>\n",
       "      <td>0</td>\n",
       "      <td>3</td>\n",
       "      <td>Braund, Mr. Owen Harris</td>\n",
       "      <td>male</td>\n",
       "      <td>22.0</td>\n",
       "      <td>1</td>\n",
       "      <td>0</td>\n",
       "      <td>A/5 21171</td>\n",
       "      <td>7.2500</td>\n",
       "      <td>NaN</td>\n",
       "      <td>S</td>\n",
       "    </tr>\n",
       "    <tr>\n",
       "      <th>1</th>\n",
       "      <td>2</td>\n",
       "      <td>1</td>\n",
       "      <td>1</td>\n",
       "      <td>Cumings, Mrs. John Bradley (Florence Briggs Th...</td>\n",
       "      <td>female</td>\n",
       "      <td>38.0</td>\n",
       "      <td>1</td>\n",
       "      <td>0</td>\n",
       "      <td>PC 17599</td>\n",
       "      <td>71.2833</td>\n",
       "      <td>C85</td>\n",
       "      <td>C</td>\n",
       "    </tr>\n",
       "    <tr>\n",
       "      <th>2</th>\n",
       "      <td>3</td>\n",
       "      <td>1</td>\n",
       "      <td>3</td>\n",
       "      <td>Heikkinen, Miss. Laina</td>\n",
       "      <td>female</td>\n",
       "      <td>26.0</td>\n",
       "      <td>0</td>\n",
       "      <td>0</td>\n",
       "      <td>STON/O2. 3101282</td>\n",
       "      <td>7.9250</td>\n",
       "      <td>NaN</td>\n",
       "      <td>S</td>\n",
       "    </tr>\n",
       "    <tr>\n",
       "      <th>3</th>\n",
       "      <td>4</td>\n",
       "      <td>1</td>\n",
       "      <td>1</td>\n",
       "      <td>Futrelle, Mrs. Jacques Heath (Lily May Peel)</td>\n",
       "      <td>female</td>\n",
       "      <td>35.0</td>\n",
       "      <td>1</td>\n",
       "      <td>0</td>\n",
       "      <td>113803</td>\n",
       "      <td>53.1000</td>\n",
       "      <td>C123</td>\n",
       "      <td>S</td>\n",
       "    </tr>\n",
       "    <tr>\n",
       "      <th>4</th>\n",
       "      <td>5</td>\n",
       "      <td>0</td>\n",
       "      <td>3</td>\n",
       "      <td>Allen, Mr. William Henry</td>\n",
       "      <td>male</td>\n",
       "      <td>35.0</td>\n",
       "      <td>0</td>\n",
       "      <td>0</td>\n",
       "      <td>373450</td>\n",
       "      <td>8.0500</td>\n",
       "      <td>NaN</td>\n",
       "      <td>S</td>\n",
       "    </tr>\n",
       "  </tbody>\n",
       "</table>\n",
       "</div>"
      ],
      "text/plain": [
       "   PassengerId  Survived  Pclass  \\\n",
       "0            1         0       3   \n",
       "1            2         1       1   \n",
       "2            3         1       3   \n",
       "3            4         1       1   \n",
       "4            5         0       3   \n",
       "\n",
       "                                                Name     Sex   Age  SibSp  \\\n",
       "0                            Braund, Mr. Owen Harris    male  22.0      1   \n",
       "1  Cumings, Mrs. John Bradley (Florence Briggs Th...  female  38.0      1   \n",
       "2                             Heikkinen, Miss. Laina  female  26.0      0   \n",
       "3       Futrelle, Mrs. Jacques Heath (Lily May Peel)  female  35.0      1   \n",
       "4                           Allen, Mr. William Henry    male  35.0      0   \n",
       "\n",
       "   Parch            Ticket     Fare Cabin Embarked  \n",
       "0      0         A/5 21171   7.2500   NaN        S  \n",
       "1      0          PC 17599  71.2833   C85        C  \n",
       "2      0  STON/O2. 3101282   7.9250   NaN        S  \n",
       "3      0            113803  53.1000  C123        S  \n",
       "4      0            373450   8.0500   NaN        S  "
      ]
     },
     "execution_count": 2,
     "metadata": {},
     "output_type": "execute_result"
    }
   ],
   "source": [
    "train_data = pd.read_csv('/kaggle/input/titanic/train.csv')\n",
    "train_data.head()"
   ]
  },
  {
   "cell_type": "code",
   "execution_count": 3,
   "id": "2be49052",
   "metadata": {
    "execution": {
     "iopub.execute_input": "2025-05-14T14:57:44.497995Z",
     "iopub.status.busy": "2025-05-14T14:57:44.497624Z",
     "iopub.status.idle": "2025-05-14T14:57:44.516430Z",
     "shell.execute_reply": "2025-05-14T14:57:44.515520Z"
    },
    "papermill": {
     "duration": 0.025622,
     "end_time": "2025-05-14T14:57:44.518090",
     "exception": false,
     "start_time": "2025-05-14T14:57:44.492468",
     "status": "completed"
    },
    "tags": []
   },
   "outputs": [
    {
     "data": {
      "text/html": [
       "<div>\n",
       "<style scoped>\n",
       "    .dataframe tbody tr th:only-of-type {\n",
       "        vertical-align: middle;\n",
       "    }\n",
       "\n",
       "    .dataframe tbody tr th {\n",
       "        vertical-align: top;\n",
       "    }\n",
       "\n",
       "    .dataframe thead th {\n",
       "        text-align: right;\n",
       "    }\n",
       "</style>\n",
       "<table border=\"1\" class=\"dataframe\">\n",
       "  <thead>\n",
       "    <tr style=\"text-align: right;\">\n",
       "      <th></th>\n",
       "      <th>PassengerId</th>\n",
       "      <th>Pclass</th>\n",
       "      <th>Name</th>\n",
       "      <th>Sex</th>\n",
       "      <th>Age</th>\n",
       "      <th>SibSp</th>\n",
       "      <th>Parch</th>\n",
       "      <th>Ticket</th>\n",
       "      <th>Fare</th>\n",
       "      <th>Cabin</th>\n",
       "      <th>Embarked</th>\n",
       "    </tr>\n",
       "  </thead>\n",
       "  <tbody>\n",
       "    <tr>\n",
       "      <th>0</th>\n",
       "      <td>892</td>\n",
       "      <td>3</td>\n",
       "      <td>Kelly, Mr. James</td>\n",
       "      <td>male</td>\n",
       "      <td>34.5</td>\n",
       "      <td>0</td>\n",
       "      <td>0</td>\n",
       "      <td>330911</td>\n",
       "      <td>7.8292</td>\n",
       "      <td>NaN</td>\n",
       "      <td>Q</td>\n",
       "    </tr>\n",
       "    <tr>\n",
       "      <th>1</th>\n",
       "      <td>893</td>\n",
       "      <td>3</td>\n",
       "      <td>Wilkes, Mrs. James (Ellen Needs)</td>\n",
       "      <td>female</td>\n",
       "      <td>47.0</td>\n",
       "      <td>1</td>\n",
       "      <td>0</td>\n",
       "      <td>363272</td>\n",
       "      <td>7.0000</td>\n",
       "      <td>NaN</td>\n",
       "      <td>S</td>\n",
       "    </tr>\n",
       "    <tr>\n",
       "      <th>2</th>\n",
       "      <td>894</td>\n",
       "      <td>2</td>\n",
       "      <td>Myles, Mr. Thomas Francis</td>\n",
       "      <td>male</td>\n",
       "      <td>62.0</td>\n",
       "      <td>0</td>\n",
       "      <td>0</td>\n",
       "      <td>240276</td>\n",
       "      <td>9.6875</td>\n",
       "      <td>NaN</td>\n",
       "      <td>Q</td>\n",
       "    </tr>\n",
       "    <tr>\n",
       "      <th>3</th>\n",
       "      <td>895</td>\n",
       "      <td>3</td>\n",
       "      <td>Wirz, Mr. Albert</td>\n",
       "      <td>male</td>\n",
       "      <td>27.0</td>\n",
       "      <td>0</td>\n",
       "      <td>0</td>\n",
       "      <td>315154</td>\n",
       "      <td>8.6625</td>\n",
       "      <td>NaN</td>\n",
       "      <td>S</td>\n",
       "    </tr>\n",
       "    <tr>\n",
       "      <th>4</th>\n",
       "      <td>896</td>\n",
       "      <td>3</td>\n",
       "      <td>Hirvonen, Mrs. Alexander (Helga E Lindqvist)</td>\n",
       "      <td>female</td>\n",
       "      <td>22.0</td>\n",
       "      <td>1</td>\n",
       "      <td>1</td>\n",
       "      <td>3101298</td>\n",
       "      <td>12.2875</td>\n",
       "      <td>NaN</td>\n",
       "      <td>S</td>\n",
       "    </tr>\n",
       "  </tbody>\n",
       "</table>\n",
       "</div>"
      ],
      "text/plain": [
       "   PassengerId  Pclass                                          Name     Sex  \\\n",
       "0          892       3                              Kelly, Mr. James    male   \n",
       "1          893       3              Wilkes, Mrs. James (Ellen Needs)  female   \n",
       "2          894       2                     Myles, Mr. Thomas Francis    male   \n",
       "3          895       3                              Wirz, Mr. Albert    male   \n",
       "4          896       3  Hirvonen, Mrs. Alexander (Helga E Lindqvist)  female   \n",
       "\n",
       "    Age  SibSp  Parch   Ticket     Fare Cabin Embarked  \n",
       "0  34.5      0      0   330911   7.8292   NaN        Q  \n",
       "1  47.0      1      0   363272   7.0000   NaN        S  \n",
       "2  62.0      0      0   240276   9.6875   NaN        Q  \n",
       "3  27.0      0      0   315154   8.6625   NaN        S  \n",
       "4  22.0      1      1  3101298  12.2875   NaN        S  "
      ]
     },
     "execution_count": 3,
     "metadata": {},
     "output_type": "execute_result"
    }
   ],
   "source": [
    "test_data = pd.read_csv('/kaggle/input/titanic/test.csv')\n",
    "test_data.head()"
   ]
  },
  {
   "cell_type": "markdown",
   "id": "d18d1125",
   "metadata": {
    "papermill": {
     "duration": 0.00421,
     "end_time": "2025-05-14T14:57:44.527078",
     "exception": false,
     "start_time": "2025-05-14T14:57:44.522868",
     "status": "completed"
    },
    "tags": []
   },
   "source": [
    "1. Первичный осмотр данных"
   ]
  },
  {
   "cell_type": "code",
   "execution_count": 4,
   "id": "0427bb71",
   "metadata": {
    "execution": {
     "iopub.execute_input": "2025-05-14T14:57:44.537172Z",
     "iopub.status.busy": "2025-05-14T14:57:44.536847Z",
     "iopub.status.idle": "2025-05-14T14:57:44.543235Z",
     "shell.execute_reply": "2025-05-14T14:57:44.542335Z"
    },
    "papermill": {
     "duration": 0.013315,
     "end_time": "2025-05-14T14:57:44.544732",
     "exception": false,
     "start_time": "2025-05-14T14:57:44.531417",
     "status": "completed"
    },
    "tags": []
   },
   "outputs": [
    {
     "name": "stdout",
     "output_type": "stream",
     "text": [
      "Размер тренировочного датасета\n"
     ]
    },
    {
     "data": {
      "text/plain": [
       "(891, 12)"
      ]
     },
     "execution_count": 4,
     "metadata": {},
     "output_type": "execute_result"
    }
   ],
   "source": [
    "print('Размер тренировочного датасета')\n",
    "train_data.shape"
   ]
  },
  {
   "cell_type": "code",
   "execution_count": 5,
   "id": "ba1a61b7",
   "metadata": {
    "execution": {
     "iopub.execute_input": "2025-05-14T14:57:44.555302Z",
     "iopub.status.busy": "2025-05-14T14:57:44.554991Z",
     "iopub.status.idle": "2025-05-14T14:57:44.562329Z",
     "shell.execute_reply": "2025-05-14T14:57:44.561638Z"
    },
    "papermill": {
     "duration": 0.014235,
     "end_time": "2025-05-14T14:57:44.563712",
     "exception": false,
     "start_time": "2025-05-14T14:57:44.549477",
     "status": "completed"
    },
    "tags": []
   },
   "outputs": [
    {
     "data": {
      "text/plain": [
       "PassengerId      0\n",
       "Survived         0\n",
       "Pclass           0\n",
       "Name             0\n",
       "Sex              0\n",
       "Age            177\n",
       "SibSp            0\n",
       "Parch            0\n",
       "Ticket           0\n",
       "Fare             0\n",
       "Cabin          687\n",
       "Embarked         2\n",
       "dtype: int64"
      ]
     },
     "execution_count": 5,
     "metadata": {},
     "output_type": "execute_result"
    }
   ],
   "source": [
    "train_data.isnull().sum()"
   ]
  },
  {
   "cell_type": "markdown",
   "id": "f767fad3",
   "metadata": {
    "papermill": {
     "duration": 0.004282,
     "end_time": "2025-05-14T14:57:44.572716",
     "exception": false,
     "start_time": "2025-05-14T14:57:44.568434",
     "status": "completed"
    },
    "tags": []
   },
   "source": [
    "Как видим, в столбцах Age и Cabin наблюдается большое количество нулевых значений."
   ]
  },
  {
   "cell_type": "code",
   "execution_count": 6,
   "id": "8fa396aa",
   "metadata": {
    "execution": {
     "iopub.execute_input": "2025-05-14T14:57:44.583071Z",
     "iopub.status.busy": "2025-05-14T14:57:44.582757Z",
     "iopub.status.idle": "2025-05-14T14:57:44.832926Z",
     "shell.execute_reply": "2025-05-14T14:57:44.831979Z"
    },
    "papermill": {
     "duration": 0.257461,
     "end_time": "2025-05-14T14:57:44.834713",
     "exception": false,
     "start_time": "2025-05-14T14:57:44.577252",
     "status": "completed"
    },
    "tags": []
   },
   "outputs": [
    {
     "data": {
      "image/png": "[encoded data removed]",
      "text/plain": [
       "<Figure size 640x480 with 1 Axes>"
      ]
     },
     "metadata": {},
     "output_type": "display_data"
    }
   ],
   "source": [
    "sns.countplot(x = 'Survived',data=train_data)\n",
    "\n",
    "plt.show()"
   ]
  },
  {
   "cell_type": "markdown",
   "id": "54734b24",
   "metadata": {
    "papermill": {
     "duration": 0.004703,
     "end_time": "2025-05-14T14:57:44.844491",
     "exception": false,
     "start_time": "2025-05-14T14:57:44.839788",
     "status": "completed"
    },
    "tags": []
   },
   "source": [
    "Оценка выживаемости показала, что в общем больше погибших, нежели выживших.\n",
    "Посмотрим в процентном соотношении, сколько мужчин и женщин выжило."
   ]
  },
  {
   "cell_type": "code",
   "execution_count": 7,
   "id": "ca256216",
   "metadata": {
    "execution": {
     "iopub.execute_input": "2025-05-14T14:57:44.856769Z",
     "iopub.status.busy": "2025-05-14T14:57:44.855922Z",
     "iopub.status.idle": "2025-05-14T14:57:44.869058Z",
     "shell.execute_reply": "2025-05-14T14:57:44.868237Z"
    },
    "papermill": {
     "duration": 0.020997,
     "end_time": "2025-05-14T14:57:44.870492",
     "exception": false,
     "start_time": "2025-05-14T14:57:44.849495",
     "status": "completed"
    },
    "tags": []
   },
   "outputs": [
    {
     "name": "stdout",
     "output_type": "stream",
     "text": [
      "Процент выживших мужчин: 18.89%\n",
      "Процент выживших женщин: 74.20%\n"
     ]
    }
   ],
   "source": [
    "male_survived = train_data[(train_data['Sex'] == 'male') & (train_data['Survived'] == 1)].shape[0]\n",
    "male_total = train_data[train_data['Sex'] == 'male'].shape[0]\n",
    "male_survival_rate = (male_survived / male_total) * 100\n",
    "\n",
    "female_survived = train_data[(train_data['Sex'] == 'female') & (train_data['Survived'] == 1)].shape[0]\n",
    "female_total = train_data[train_data['Sex'] == 'female'].shape[0]\n",
    "female_survival_rate = (female_survived / female_total) * 100\n",
    "\n",
    "print(f\"Процент выживших мужчин: {male_survival_rate:.2f}%\")\n",
    "print(f\"Процент выживших женщин: {female_survival_rate:.2f}%\")"
   ]
  },
  {
   "cell_type": "markdown",
   "id": "57a4fe14",
   "metadata": {
    "papermill": {
     "duration": 0.004635,
     "end_time": "2025-05-14T14:57:44.881181",
     "exception": false,
     "start_time": "2025-05-14T14:57:44.876546",
     "status": "completed"
    },
    "tags": []
   },
   "source": [
    "Теперь проверим, как зависела выживаемость от класса каюты."
   ]
  },
  {
   "cell_type": "code",
   "execution_count": 8,
   "id": "5f562fe6",
   "metadata": {
    "execution": {
     "iopub.execute_input": "2025-05-14T14:57:44.892594Z",
     "iopub.status.busy": "2025-05-14T14:57:44.891904Z",
     "iopub.status.idle": "2025-05-14T14:57:45.061160Z",
     "shell.execute_reply": "2025-05-14T14:57:45.059864Z"
    },
    "papermill": {
     "duration": 0.176733,
     "end_time": "2025-05-14T14:57:45.062952",
     "exception": false,
     "start_time": "2025-05-14T14:57:44.886219",
     "status": "completed"
    },
    "tags": []
   },
   "outputs": [
    {
     "data": {
      "image/png": "[encoded data removed]",
      "text/plain": [
       "<Figure size 640x480 with 1 Axes>"
      ]
     },
     "metadata": {},
     "output_type": "display_data"
    }
   ],
   "source": [
    "sns.countplot(x = 'Survived', hue = 'Pclass', data = train_data)\n",
    "plt.show()"
   ]
  },
  {
   "cell_type": "markdown",
   "id": "58339b7b",
   "metadata": {
    "papermill": {
     "duration": 0.005039,
     "end_time": "2025-05-14T14:57:45.073554",
     "exception": false,
     "start_time": "2025-05-14T14:57:45.068515",
     "status": "completed"
    },
    "tags": []
   },
   "source": [
    "Из графика видно, что наибольшее число погибших пассажиров было с каюты 3-го класса."
   ]
  },
  {
   "cell_type": "markdown",
   "id": "f8b5d013",
   "metadata": {
    "papermill": {
     "duration": 0.005979,
     "end_time": "2025-05-14T14:57:45.085451",
     "exception": false,
     "start_time": "2025-05-14T14:57:45.079472",
     "status": "completed"
    },
    "tags": []
   },
   "source": [
    "**Вывод**: шансы на выживание напрямую зависят от пола и класса каюты."
   ]
  },
  {
   "cell_type": "markdown",
   "id": "4095e414",
   "metadata": {
    "papermill": {
     "duration": 0.006734,
     "end_time": "2025-05-14T14:57:45.097688",
     "exception": false,
     "start_time": "2025-05-14T14:57:45.090954",
     "status": "completed"
    },
    "tags": []
   },
   "source": [
    "2. Обучение модели"
   ]
  },
  {
   "cell_type": "code",
   "execution_count": 9,
   "id": "03ba0f24",
   "metadata": {
    "execution": {
     "iopub.execute_input": "2025-05-14T14:57:45.111454Z",
     "iopub.status.busy": "2025-05-14T14:57:45.110238Z",
     "iopub.status.idle": "2025-05-14T14:57:45.115706Z",
     "shell.execute_reply": "2025-05-14T14:57:45.114448Z"
    },
    "papermill": {
     "duration": 0.01393,
     "end_time": "2025-05-14T14:57:45.117513",
     "exception": false,
     "start_time": "2025-05-14T14:57:45.103583",
     "status": "completed"
    },
    "tags": []
   },
   "outputs": [],
   "source": [
    "features = ['Sex', 'Pclass']\n",
    "y = train_data['Survived']"
   ]
  },
  {
   "cell_type": "code",
   "execution_count": 10,
   "id": "b9f6e2c6",
   "metadata": {
    "execution": {
     "iopub.execute_input": "2025-05-14T14:57:45.130736Z",
     "iopub.status.busy": "2025-05-14T14:57:45.130411Z",
     "iopub.status.idle": "2025-05-14T14:57:45.144826Z",
     "shell.execute_reply": "2025-05-14T14:57:45.143811Z"
    },
    "papermill": {
     "duration": 0.022941,
     "end_time": "2025-05-14T14:57:45.146465",
     "exception": false,
     "start_time": "2025-05-14T14:57:45.123524",
     "status": "completed"
    },
    "tags": []
   },
   "outputs": [],
   "source": [
    "X = pd.get_dummies(train_data[features])\n",
    "#X_test = pd.get_dummies(test_data[features])\n",
    "\n",
    "X_train, X_test, y_train, y_test = train_test_split(X, y, test_size=0.2, random_state=42)"
   ]
  },
  {
   "cell_type": "code",
   "execution_count": 11,
   "id": "468798ea",
   "metadata": {
    "execution": {
     "iopub.execute_input": "2025-05-14T14:57:45.159220Z",
     "iopub.status.busy": "2025-05-14T14:57:45.158930Z",
     "iopub.status.idle": "2025-05-14T14:57:45.298979Z",
     "shell.execute_reply": "2025-05-14T14:57:45.298115Z"
    },
    "papermill": {
     "duration": 0.149177,
     "end_time": "2025-05-14T14:57:45.301300",
     "exception": false,
     "start_time": "2025-05-14T14:57:45.152123",
     "status": "completed"
    },
    "tags": []
   },
   "outputs": [],
   "source": [
    "model = LogisticRegression()\n",
    "\n",
    "model.fit(X_train, y_train)\n",
    "y_pred_lr = model.predict(X_test)\n",
    "\n",
    "output = pd.DataFrame({'PassengerId': X_test.index, 'Survived': y_pred_lr})\n",
    "output.to_csv('Titanic_LG.csv')"
   ]
  },
  {
   "cell_type": "code",
   "execution_count": 12,
   "id": "b3befd6d",
   "metadata": {
    "execution": {
     "iopub.execute_input": "2025-05-14T14:57:45.322245Z",
     "iopub.status.busy": "2025-05-14T14:57:45.321577Z",
     "iopub.status.idle": "2025-05-14T14:57:45.338185Z",
     "shell.execute_reply": "2025-05-14T14:57:45.337424Z"
    },
    "papermill": {
     "duration": 0.030085,
     "end_time": "2025-05-14T14:57:45.340198",
     "exception": false,
     "start_time": "2025-05-14T14:57:45.310113",
     "status": "completed"
    },
    "tags": []
   },
   "outputs": [
    {
     "data": {
      "text/html": [
       "<div>\n",
       "<style scoped>\n",
       "    .dataframe tbody tr th:only-of-type {\n",
       "        vertical-align: middle;\n",
       "    }\n",
       "\n",
       "    .dataframe tbody tr th {\n",
       "        vertical-align: top;\n",
       "    }\n",
       "\n",
       "    .dataframe thead th {\n",
       "        text-align: right;\n",
       "    }\n",
       "</style>\n",
       "<table border=\"1\" class=\"dataframe\">\n",
       "  <thead>\n",
       "    <tr style=\"text-align: right;\">\n",
       "      <th></th>\n",
       "      <th>Unnamed: 0</th>\n",
       "      <th>PassengerId</th>\n",
       "      <th>Survived</th>\n",
       "    </tr>\n",
       "  </thead>\n",
       "  <tbody>\n",
       "    <tr>\n",
       "      <th>0</th>\n",
       "      <td>0</td>\n",
       "      <td>709</td>\n",
       "      <td>0</td>\n",
       "    </tr>\n",
       "    <tr>\n",
       "      <th>1</th>\n",
       "      <td>1</td>\n",
       "      <td>439</td>\n",
       "      <td>0</td>\n",
       "    </tr>\n",
       "    <tr>\n",
       "      <th>2</th>\n",
       "      <td>2</td>\n",
       "      <td>840</td>\n",
       "      <td>0</td>\n",
       "    </tr>\n",
       "    <tr>\n",
       "      <th>3</th>\n",
       "      <td>3</td>\n",
       "      <td>720</td>\n",
       "      <td>1</td>\n",
       "    </tr>\n",
       "    <tr>\n",
       "      <th>4</th>\n",
       "      <td>4</td>\n",
       "      <td>39</td>\n",
       "      <td>1</td>\n",
       "    </tr>\n",
       "    <tr>\n",
       "      <th>...</th>\n",
       "      <td>...</td>\n",
       "      <td>...</td>\n",
       "      <td>...</td>\n",
       "    </tr>\n",
       "    <tr>\n",
       "      <th>174</th>\n",
       "      <td>174</td>\n",
       "      <td>433</td>\n",
       "      <td>0</td>\n",
       "    </tr>\n",
       "    <tr>\n",
       "      <th>175</th>\n",
       "      <td>175</td>\n",
       "      <td>773</td>\n",
       "      <td>0</td>\n",
       "    </tr>\n",
       "    <tr>\n",
       "      <th>176</th>\n",
       "      <td>176</td>\n",
       "      <td>25</td>\n",
       "      <td>1</td>\n",
       "    </tr>\n",
       "    <tr>\n",
       "      <th>177</th>\n",
       "      <td>177</td>\n",
       "      <td>84</td>\n",
       "      <td>1</td>\n",
       "    </tr>\n",
       "    <tr>\n",
       "      <th>178</th>\n",
       "      <td>178</td>\n",
       "      <td>10</td>\n",
       "      <td>1</td>\n",
       "    </tr>\n",
       "  </tbody>\n",
       "</table>\n",
       "<p>179 rows × 3 columns</p>\n",
       "</div>"
      ],
      "text/plain": [
       "     Unnamed: 0  PassengerId  Survived\n",
       "0             0          709         0\n",
       "1             1          439         0\n",
       "2             2          840         0\n",
       "3             3          720         1\n",
       "4             4           39         1\n",
       "..          ...          ...       ...\n",
       "174         174          433         0\n",
       "175         175          773         0\n",
       "176         176           25         1\n",
       "177         177           84         1\n",
       "178         178           10         1\n",
       "\n",
       "[179 rows x 3 columns]"
      ]
     },
     "execution_count": 12,
     "metadata": {},
     "output_type": "execute_result"
    }
   ],
   "source": [
    "data = pd.read_csv('Titanic_LG.csv')\n",
    "data"
   ]
  },
  {
   "cell_type": "code",
   "execution_count": 13,
   "id": "38a9a437",
   "metadata": {
    "execution": {
     "iopub.execute_input": "2025-05-14T14:57:45.361990Z",
     "iopub.status.busy": "2025-05-14T14:57:45.360071Z",
     "iopub.status.idle": "2025-05-14T14:57:45.531949Z",
     "shell.execute_reply": "2025-05-14T14:57:45.530970Z"
    },
    "papermill": {
     "duration": 0.184047,
     "end_time": "2025-05-14T14:57:45.533753",
     "exception": false,
     "start_time": "2025-05-14T14:57:45.349706",
     "status": "completed"
    },
    "tags": []
   },
   "outputs": [],
   "source": [
    "model = RandomForestClassifier(n_estimators=100, max_depth=5, random_state=1)\n",
    "model.fit(X_train, y_train)\n",
    "y_pred_rf = model.predict(X_test)\n",
    "output = pd.DataFrame({'PassengerId':X_test.index, 'Survived':y_pred_rf})\n",
    "output.to_csv('Titanic_RF.csv', index=False)"
   ]
  },
  {
   "cell_type": "code",
   "execution_count": 14,
   "id": "e39f4546",
   "metadata": {
    "execution": {
     "iopub.execute_input": "2025-05-14T14:57:45.546537Z",
     "iopub.status.busy": "2025-05-14T14:57:45.546181Z",
     "iopub.status.idle": "2025-05-14T14:57:45.557239Z",
     "shell.execute_reply": "2025-05-14T14:57:45.556247Z"
    },
    "papermill": {
     "duration": 0.01969,
     "end_time": "2025-05-14T14:57:45.558919",
     "exception": false,
     "start_time": "2025-05-14T14:57:45.539229",
     "status": "completed"
    },
    "tags": []
   },
   "outputs": [
    {
     "data": {
      "text/html": [
       "<div>\n",
       "<style scoped>\n",
       "    .dataframe tbody tr th:only-of-type {\n",
       "        vertical-align: middle;\n",
       "    }\n",
       "\n",
       "    .dataframe tbody tr th {\n",
       "        vertical-align: top;\n",
       "    }\n",
       "\n",
       "    .dataframe thead th {\n",
       "        text-align: right;\n",
       "    }\n",
       "</style>\n",
       "<table border=\"1\" class=\"dataframe\">\n",
       "  <thead>\n",
       "    <tr style=\"text-align: right;\">\n",
       "      <th></th>\n",
       "      <th>PassengerId</th>\n",
       "      <th>Survived</th>\n",
       "    </tr>\n",
       "  </thead>\n",
       "  <tbody>\n",
       "    <tr>\n",
       "      <th>0</th>\n",
       "      <td>709</td>\n",
       "      <td>0</td>\n",
       "    </tr>\n",
       "    <tr>\n",
       "      <th>1</th>\n",
       "      <td>439</td>\n",
       "      <td>0</td>\n",
       "    </tr>\n",
       "    <tr>\n",
       "      <th>2</th>\n",
       "      <td>840</td>\n",
       "      <td>0</td>\n",
       "    </tr>\n",
       "    <tr>\n",
       "      <th>3</th>\n",
       "      <td>720</td>\n",
       "      <td>1</td>\n",
       "    </tr>\n",
       "    <tr>\n",
       "      <th>4</th>\n",
       "      <td>39</td>\n",
       "      <td>0</td>\n",
       "    </tr>\n",
       "    <tr>\n",
       "      <th>...</th>\n",
       "      <td>...</td>\n",
       "      <td>...</td>\n",
       "    </tr>\n",
       "    <tr>\n",
       "      <th>174</th>\n",
       "      <td>433</td>\n",
       "      <td>0</td>\n",
       "    </tr>\n",
       "    <tr>\n",
       "      <th>175</th>\n",
       "      <td>773</td>\n",
       "      <td>0</td>\n",
       "    </tr>\n",
       "    <tr>\n",
       "      <th>176</th>\n",
       "      <td>25</td>\n",
       "      <td>0</td>\n",
       "    </tr>\n",
       "    <tr>\n",
       "      <th>177</th>\n",
       "      <td>84</td>\n",
       "      <td>1</td>\n",
       "    </tr>\n",
       "    <tr>\n",
       "      <th>178</th>\n",
       "      <td>10</td>\n",
       "      <td>0</td>\n",
       "    </tr>\n",
       "  </tbody>\n",
       "</table>\n",
       "<p>179 rows × 2 columns</p>\n",
       "</div>"
      ],
      "text/plain": [
       "     PassengerId  Survived\n",
       "0            709         0\n",
       "1            439         0\n",
       "2            840         0\n",
       "3            720         1\n",
       "4             39         0\n",
       "..           ...       ...\n",
       "174          433         0\n",
       "175          773         0\n",
       "176           25         0\n",
       "177           84         1\n",
       "178           10         0\n",
       "\n",
       "[179 rows x 2 columns]"
      ]
     },
     "execution_count": 14,
     "metadata": {},
     "output_type": "execute_result"
    }
   ],
   "source": [
    "data = pd.read_csv('Titanic_RF.csv')\n",
    "data"
   ]
  },
  {
   "cell_type": "code",
   "execution_count": 15,
   "id": "4ff7d2bf",
   "metadata": {
    "execution": {
     "iopub.execute_input": "2025-05-14T14:57:45.571630Z",
     "iopub.status.busy": "2025-05-14T14:57:45.571280Z",
     "iopub.status.idle": "2025-05-14T14:57:45.583515Z",
     "shell.execute_reply": "2025-05-14T14:57:45.582408Z"
    },
    "papermill": {
     "duration": 0.020288,
     "end_time": "2025-05-14T14:57:45.585049",
     "exception": false,
     "start_time": "2025-05-14T14:57:45.564761",
     "status": "completed"
    },
    "tags": []
   },
   "outputs": [
    {
     "name": "stdout",
     "output_type": "stream",
     "text": [
      "Accuracy for LG: 0.7821229050279329\n",
      "F1-Score for LG: 0.7272727272727273\n",
      "Accuracy for RF: 0.7653631284916201\n",
      "F1-Score for RF: 0.631578947368421\n"
     ]
    }
   ],
   "source": [
    "print(\"Accuracy for LG:\", accuracy_score(y_test, y_pred_lr))\n",
    "print(\"F1-Score for LG:\", f1_score(y_test, y_pred_lr))\n",
    "\n",
    "print(\"Accuracy for RF:\", accuracy_score(y_test, y_pred_rf))\n",
    "print(\"F1-Score for RF:\", f1_score(y_test, y_pred_rf))"
   ]
  },
  {
   "cell_type": "markdown",
   "id": "5f3b8771",
   "metadata": {
    "papermill": {
     "duration": 0.005185,
     "end_time": "2025-05-14T14:57:45.596000",
     "exception": false,
     "start_time": "2025-05-14T14:57:45.590815",
     "status": "completed"
    },
    "tags": []
   },
   "source": [
    "Получили, что логистическая регрессия даёт результат выше"
   ]
  },
  {
   "cell_type": "code",
   "execution_count": null,
   "id": "531bb584",
   "metadata": {
    "papermill": {
     "duration": 0.005137,
     "end_time": "2025-05-14T14:57:45.606674",
     "exception": false,
     "start_time": "2025-05-14T14:57:45.601537",
     "status": "completed"
    },
    "tags": []
   },
   "outputs": [],
   "source": []
  }
 ],
 "metadata": {
  "kaggle": {
   "accelerator": "none",
   "dataSources": [
    {
     "databundleVersionId": 26502,
     "sourceId": 3136,
     "sourceType": "competition"
    }
   ],
   "dockerImageVersionId": 31040,
   "isGpuEnabled": false,
   "isInternetEnabled": false,
   "language": "python",
   "sourceType": "notebook"
  },
  "kernelspec": {
   "display_name": "Python 3",
   "language": "python",
   "name": "python3"
  },
  "language_info": {
   "codemirror_mode": {
    "name": "ipython",
    "version": 3
   },
   "file_extension": ".py",
   "mimetype": "text/x-python",
   "name": "python",
   "nbconvert_exporter": "python",
   "pygments_lexer": "ipython3",
   "version": "3.11.11"
  },
  "papermill": {
   "default_parameters": {},
   "duration": 16.390282,
   "end_time": "2025-05-14T14:57:46.332862",
   "environment_variables": {},
   "exception": null,
   "input_path": "__notebook__.ipynb",
   "output_path": "__notebook__.ipynb",
   "parameters": {},
   "start_time": "2025-05-14T14:57:29.942580",
   "version": "2.6.0"
  }
 },
 "nbformat": 4,
 "nbformat_minor": 5
}
